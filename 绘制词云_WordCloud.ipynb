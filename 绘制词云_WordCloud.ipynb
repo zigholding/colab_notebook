{
  "nbformat": 4,
  "nbformat_minor": 0,
  "metadata": {
    "colab": {
      "provenance": []
    },
    "kernelspec": {
      "name": "python3",
      "display_name": "Python 3"
    },
    "language_info": {
      "name": "python"
    }
  },
  "cells": [
    {
      "cell_type": "code",
      "source": [
        "from IPython import display"
      ],
      "metadata": {
        "id": "4xhEerggB-gE"
      },
      "execution_count": 1,
      "outputs": []
    },
    {
      "cell_type": "code",
      "execution_count": 2,
      "metadata": {
        "id": "ErvrBNnF1Ql7"
      },
      "outputs": [],
      "source": [
        "!git clone https://github.com/goto456/stopwords.git\n",
        "\n",
        "import os\n",
        "百度  = 'baidu_stopwords.txt'\n",
        "中文 = 'cn_stopwords.txt'\n",
        "哈工大 = 'hit_stopwords.txt'\n",
        "川大 = 'scu_stopwords.txt'\n",
        "def get_stopwords(src):\n",
        "    path = os.path.join('./stopwords',src)\n",
        "    if os.path.isfile(path):\n",
        "        with open(path,'r',encoding='utf8') as fout:\n",
        "            words = fout.readlines()\n",
        "    else:\n",
        "        words = []\n",
        "    return set(words)\n",
        "stopwords = get_stopwords(百度)\n",
        "display.clear_output()"
      ]
    },
    {
      "cell_type": "code",
      "source": [
        "!pip install wordcloud\n",
        "!wget https://github.com/StellarCN/scp_zh/raw/master/fonts/SimHei.ttf\n",
        "!wget https://github.com/StellarCN/scp_zh/raw/master/fonts/SimKai.ttf\n",
        "\n",
        "from wordcloud import WordCloud\n",
        "\n",
        "display.clear_output()"
      ],
      "metadata": {
        "id": "WoLaXhnj7hs_"
      },
      "execution_count": 3,
      "outputs": []
    },
    {
      "cell_type": "code",
      "source": [
        "!pip install gradio\n",
        "import io\n",
        "import numpy as np\n",
        "import gradio as gr\n",
        "from PIL import Image\n",
        "import matplotlib.pyplot as plt\n",
        "display.clear_output()"
      ],
      "metadata": {
        "id": "oPKg9mG9-0aJ"
      },
      "execution_count": 4,
      "outputs": []
    },
    {
      "cell_type": "code",
      "source": [
        "def on_btn_click(text,mask):\n",
        "    if isinstance(mask,str):\n",
        "        mask = np.array(Image.open(mask))\n",
        "\n",
        "    wc = WordCloud(\n",
        "          stopwords=stopwords, # 停用词\n",
        "          font_path='SimHei.ttf', # 字体\n",
        "          scale=20, # 清晰度\n",
        "          mask=mask # 图像掩膜\n",
        "    )\n",
        "    wc.generate(text)\n",
        "    fig = plt.figure(figsize=(12,18))\n",
        "    plt.imshow(wc, interpolation='bilinear')\n",
        "    plt.axis('off')\n",
        "    buf = io.BytesIO()\n",
        "    fig.savefig(buf, format='png', bbox_inches='tight', pad_inches=0)\n",
        "    buf.seek(0)\n",
        "    img = Image.open(buf)\n",
        "    msg = '\\n'.join(\n",
        "        [\n",
        "            '%s,%f' % (k,wc.words_[k])\n",
        "            for k in wc.words_\n",
        "        ]\n",
        "    )\n",
        "    return img,msg\n",
        "\n",
        "\n",
        "with gr.Blocks() as demo:\n",
        "    with gr.Tab(\"Text\"):\n",
        "        text = gr.TextArea()\n",
        "    with gr.Tab('mask'):\n",
        "        mask = gr.Image()\n",
        "    with gr.Tab('Words'):\n",
        "        words = gr.TextArea()\n",
        "    with gr.Tab('Image'):\n",
        "        output = gr.Image()\n",
        "    btn = gr.Button(value='Generate')\n",
        "    btn.click(on_btn_click, inputs=[text,mask], outputs=[output,words])"
      ],
      "metadata": {
        "id": "BqXNpITgCXYD"
      },
      "execution_count": 5,
      "outputs": []
    },
    {
      "cell_type": "code",
      "source": [
        "demo.launch()"
      ],
      "metadata": {
        "colab": {
          "base_uri": "https://localhost:8080/",
          "height": 631
        },
        "id": "uZhnSykMNixg",
        "outputId": "26addd40-511d-4597-f623-4484ad5669c9"
      },
      "execution_count": 6,
      "outputs": [
        {
          "output_type": "stream",
          "name": "stdout",
          "text": [
            "Setting queue=True in a Colab notebook requires sharing enabled. Setting `share=True` (you can turn this off by setting `share=False` in `launch()` explicitly).\n",
            "\n",
            "Colab notebook detected. To show errors in colab notebook, set debug=True in launch()\n",
            "Running on public URL: https://f2a6c53a84564d7da8.gradio.live\n",
            "\n",
            "This share link expires in 72 hours. For free permanent hosting and GPU upgrades, run `gradio deploy` from Terminal to deploy to Spaces (https://huggingface.co/spaces)\n"
          ]
        },
        {
          "output_type": "display_data",
          "data": {
            "text/plain": [
              "<IPython.core.display.HTML object>"
            ],
            "text/html": [
              "<div><iframe src=\"https://f2a6c53a84564d7da8.gradio.live\" width=\"100%\" height=\"500\" allow=\"autoplay; camera; microphone; clipboard-read; clipboard-write;\" frameborder=\"0\" allowfullscreen></iframe></div>"
            ]
          },
          "metadata": {}
        },
        {
          "output_type": "execute_result",
          "data": {
            "text/plain": []
          },
          "metadata": {},
          "execution_count": 6
        }
      ]
    },
    {
      "cell_type": "code",
      "source": [],
      "metadata": {
        "id": "WFy6F-iVNjH5"
      },
      "execution_count": null,
      "outputs": []
    },
    {
      "cell_type": "code",
      "source": [],
      "metadata": {
        "id": "2CTP2UimHIzj"
      },
      "execution_count": null,
      "outputs": []
    }
  ]
}